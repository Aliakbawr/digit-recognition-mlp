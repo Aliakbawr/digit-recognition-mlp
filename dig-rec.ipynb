{
  "nbformat": 4,
  "nbformat_minor": 0,
  "metadata": {
    "colab": {
      "provenance": [],
      "authorship_tag": "ABX9TyMGyUlFlGrXzT2Xu9ZSgB0Q",
      "include_colab_link": true
    },
    "kernelspec": {
      "name": "python3",
      "display_name": "Python 3"
    },
    "language_info": {
      "name": "python"
    }
  },
  "cells": [
    {
      "cell_type": "markdown",
      "metadata": {
        "id": "view-in-github",
        "colab_type": "text"
      },
      "source": [
        "<a href=\"https://colab.research.google.com/github/Aliakbawr/digit-recognition-mlp/blob/main/dig-rec.ipynb\" target=\"_parent\"><img src=\"https://colab.research.google.com/assets/colab-badge.svg\" alt=\"Open In Colab\"/></a>"
      ]
    },
    {
      "cell_type": "markdown",
      "source": [
        "<h1>پروژه شبکه های عصبی</h1>\n",
        "<h3></h3>"
      ],
      "metadata": {
        "id": "JOpbJ5xVGpNC"
      }
    },
    {
      "cell_type": "markdown",
      "source": [
        "Importing the essential libraries"
      ],
      "metadata": {
        "id": "78iMdM4oHF47"
      }
    },
    {
      "cell_type": "code",
      "execution_count": null,
      "metadata": {
        "id": "JTrjSul7CkOl"
      },
      "outputs": [],
      "source": [
        "import tensorflow as tf\n",
        "from tensorflow.keras import layers, models\n",
        "from tensorflow.keras.datasets import mnist\n",
        "from tensorflow.keras.utils import to_categorical"
      ]
    },
    {
      "cell_type": "markdown",
      "source": [
        "Splitting the data"
      ],
      "metadata": {
        "id": "qh06A5s_HYFB"
      }
    },
    {
      "cell_type": "code",
      "source": [
        "(X_train, Y_train), (X_test, Y_test) = mnist.load_data()"
      ],
      "metadata": {
        "id": "rdoPGTfvCrDl"
      },
      "execution_count": null,
      "outputs": []
    },
    {
      "cell_type": "code",
      "source": [
        "X_train = X_train.reshape((60000, 28 * 28)).astype('float32') / 255\n",
        "X_test = X_test.reshape((10000, 28 * 28)).astype('float32') / 255\n",
        "Y_train = to_categorical(Y_train)\n",
        "Y_test = to_categorical(Y_test)"
      ],
      "metadata": {
        "id": "mAiEi9lIC9VM"
      },
      "execution_count": null,
      "outputs": []
    },
    {
      "cell_type": "markdown",
      "source": [
        "1- Selecting number of Denses and Neurons"
      ],
      "metadata": {
        "id": "uDg_5BDdIL20"
      }
    },
    {
      "cell_type": "code",
      "source": [
        "model = models.Sequential([\n",
        "    layers.Dense(128, activation='relu', input_shape=(28 * 28,)),\n",
        "    layers.Dense(64, activation='relu'),\n",
        "    layers.Dense(10, activation='softmax')\n",
        "])"
      ],
      "metadata": {
        "id": "u9JjcPtPDsv_"
      },
      "execution_count": null,
      "outputs": []
    },
    {
      "cell_type": "code",
      "source": [
        "model.compile(optimizer='adam', loss='categorical_crossentropy', metrics=['accuracy'])"
      ],
      "metadata": {
        "id": "cZhhyGxLD0cL"
      },
      "execution_count": null,
      "outputs": []
    },
    {
      "cell_type": "code",
      "source": [
        "model.fit(X_train, Y_train, epochs=10, batch_size=64, validation_split=0.2)"
      ],
      "metadata": {
        "id": "GvzIvYjLD5j1",
        "colab": {
          "base_uri": "https://localhost:8080/"
        },
        "outputId": "d7723b37-ae90-4c00-84b5-71c3e50f6453"
      },
      "execution_count": null,
      "outputs": [
        {
          "output_type": "stream",
          "name": "stdout",
          "text": [
            "Epoch 1/10\n",
            "750/750 [==============================] - 6s 7ms/step - loss: 0.3076 - accuracy: 0.9104 - val_loss: 0.1573 - val_accuracy: 0.9529\n",
            "Epoch 2/10\n",
            "750/750 [==============================] - 4s 5ms/step - loss: 0.1270 - accuracy: 0.9617 - val_loss: 0.1168 - val_accuracy: 0.9649\n",
            "Epoch 3/10\n",
            "750/750 [==============================] - 4s 6ms/step - loss: 0.0860 - accuracy: 0.9739 - val_loss: 0.0971 - val_accuracy: 0.9712\n",
            "Epoch 4/10\n",
            "750/750 [==============================] - 5s 7ms/step - loss: 0.0654 - accuracy: 0.9802 - val_loss: 0.0878 - val_accuracy: 0.9728\n",
            "Epoch 5/10\n",
            "750/750 [==============================] - 4s 6ms/step - loss: 0.0512 - accuracy: 0.9834 - val_loss: 0.0924 - val_accuracy: 0.9739\n",
            "Epoch 6/10\n",
            "750/750 [==============================] - 5s 7ms/step - loss: 0.0403 - accuracy: 0.9870 - val_loss: 0.0851 - val_accuracy: 0.9743\n",
            "Epoch 7/10\n",
            "750/750 [==============================] - 5s 7ms/step - loss: 0.0330 - accuracy: 0.9895 - val_loss: 0.0870 - val_accuracy: 0.9749\n",
            "Epoch 8/10\n",
            "750/750 [==============================] - 4s 5ms/step - loss: 0.0259 - accuracy: 0.9919 - val_loss: 0.0934 - val_accuracy: 0.9741\n",
            "Epoch 9/10\n",
            "750/750 [==============================] - 5s 6ms/step - loss: 0.0231 - accuracy: 0.9924 - val_loss: 0.1094 - val_accuracy: 0.9720\n",
            "Epoch 10/10\n",
            "750/750 [==============================] - 5s 7ms/step - loss: 0.0204 - accuracy: 0.9932 - val_loss: 0.1071 - val_accuracy: 0.9719\n"
          ]
        },
        {
          "output_type": "execute_result",
          "data": {
            "text/plain": [
              "<keras.src.callbacks.History at 0x7f22a5b9f070>"
            ]
          },
          "metadata": {},
          "execution_count": 19
        }
      ]
    },
    {
      "cell_type": "code",
      "source": [
        "test_loss, test_acc = model.evaluate(X_test, Y_test)\n",
        "print(f\"Test accuracy: {test_acc:.4f}\")"
      ],
      "metadata": {
        "colab": {
          "base_uri": "https://localhost:8080/"
        },
        "id": "iNPq7vP0FRqV",
        "outputId": "f4531197-3c25-46d0-8c8c-0fcce5a1aac7"
      },
      "execution_count": null,
      "outputs": [
        {
          "output_type": "stream",
          "name": "stdout",
          "text": [
            "313/313 [==============================] - 1s 2ms/step - loss: 0.0950 - accuracy: 0.9750\n",
            "Test accuracy: 0.9750\n"
          ]
        }
      ]
    },
    {
      "cell_type": "code",
      "source": [
        "predictions = model.predict(X_test[:5])\n",
        "predicted_labels = [tf.argmax(pred).numpy() for pred in predictions]\n",
        "print(f\"Predicted labels: {predicted_labels}\")"
      ],
      "metadata": {
        "colab": {
          "base_uri": "https://localhost:8080/"
        },
        "id": "Rsah1QAOFi4r",
        "outputId": "4f290894-cd93-4108-af50-34e53260a715"
      },
      "execution_count": null,
      "outputs": [
        {
          "output_type": "stream",
          "name": "stdout",
          "text": [
            "1/1 [==============================] - 0s 94ms/step\n",
            "Predicted labels: [7, 2, 1, 0, 4]\n"
          ]
        }
      ]
    },
    {
      "cell_type": "code",
      "source": [],
      "metadata": {
        "id": "P6IMdqH-F1sf"
      },
      "execution_count": null,
      "outputs": []
    }
  ]
}