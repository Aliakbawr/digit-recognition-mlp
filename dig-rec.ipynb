{
 "nbformat": 4,
 "nbformat_minor": 0,
 "metadata": {
  "colab": {
   "provenance": [],
   "authorship_tag": "ABX9TyMGyUlFlGrXzT2Xu9ZSgB0Q",
   "include_colab_link": true
  },
  "kernelspec": {
   "name": "python3",
   "display_name": "Python 3 (ipykernel)",
   "language": "python"
  },
  "language_info": {
   "name": "python"
  }
 },
 "cells": [
  {
   "cell_type": "markdown",
   "metadata": {
    "id": "view-in-github",
    "colab_type": "text"
   },
   "source": [
    "<a href=\"https://colab.research.google.com/github/Aliakbawr/digit-recognition-mlp/blob/main/dig-rec.ipynb\" target=\"_parent\"><img src=\"https://colab.research.google.com/assets/colab-badge.svg\" alt=\"Open In Colab\"/></a>"
   ]
  },
  {
   "cell_type": "markdown",
   "source": [
    "<h1>پروژه شبکه های عصبی</h1>\n",
    "<h3></h3>"
   ],
   "metadata": {
    "id": "JOpbJ5xVGpNC"
   }
  },
  {
   "cell_type": "markdown",
   "source": [
    "Importing the essential libraries"
   ],
   "metadata": {
    "id": "78iMdM4oHF47"
   }
  },
  {
   "cell_type": "code",
   "metadata": {
    "id": "JTrjSul7CkOl",
    "ExecuteTime": {
     "end_time": "2024-06-05T16:52:43.503810Z",
     "start_time": "2024-06-05T16:52:43.435507Z"
    }
   },
   "source": [
    "import numpy as np\n",
    "import matplotlib.pyplot as plt\n",
    "from tensorflow.keras.datasets import mnist\n",
    "from tensorflow.keras.models import Sequential\n",
    "from tensorflow.keras.layers import Dense, Flatten, Dropout, BatchNormalization\n",
    "from tensorflow.keras.utils import to_categorical\n",
    "from tensorflow.keras.callbacks import EarlyStopping"
   ],
   "outputs": [
    {
     "ename": "ModuleNotFoundError",
     "evalue": "No module named 'tensorflow'",
     "output_type": "error",
     "traceback": [
      "\u001B[1;31m---------------------------------------------------------------------------\u001B[0m",
      "\u001B[1;31mModuleNotFoundError\u001B[0m                       Traceback (most recent call last)",
      "Cell \u001B[1;32mIn[2], line 3\u001B[0m\n\u001B[0;32m      1\u001B[0m \u001B[38;5;28;01mimport\u001B[39;00m \u001B[38;5;21;01mnumpy\u001B[39;00m \u001B[38;5;28;01mas\u001B[39;00m \u001B[38;5;21;01mnp\u001B[39;00m\n\u001B[0;32m      2\u001B[0m \u001B[38;5;28;01mimport\u001B[39;00m \u001B[38;5;21;01mmatplotlib\u001B[39;00m\u001B[38;5;21;01m.\u001B[39;00m\u001B[38;5;21;01mpyplot\u001B[39;00m \u001B[38;5;28;01mas\u001B[39;00m \u001B[38;5;21;01mplt\u001B[39;00m\n\u001B[1;32m----> 3\u001B[0m \u001B[38;5;28;01mfrom\u001B[39;00m \u001B[38;5;21;01mtensorflow\u001B[39;00m\u001B[38;5;21;01m.\u001B[39;00m\u001B[38;5;21;01mkeras\u001B[39;00m\u001B[38;5;21;01m.\u001B[39;00m\u001B[38;5;21;01mdatasets\u001B[39;00m \u001B[38;5;28;01mimport\u001B[39;00m mnist\n\u001B[0;32m      4\u001B[0m \u001B[38;5;28;01mfrom\u001B[39;00m \u001B[38;5;21;01mtensorflow\u001B[39;00m\u001B[38;5;21;01m.\u001B[39;00m\u001B[38;5;21;01mkeras\u001B[39;00m\u001B[38;5;21;01m.\u001B[39;00m\u001B[38;5;21;01mmodels\u001B[39;00m \u001B[38;5;28;01mimport\u001B[39;00m Sequential\n\u001B[0;32m      5\u001B[0m \u001B[38;5;28;01mfrom\u001B[39;00m \u001B[38;5;21;01mtensorflow\u001B[39;00m\u001B[38;5;21;01m.\u001B[39;00m\u001B[38;5;21;01mkeras\u001B[39;00m\u001B[38;5;21;01m.\u001B[39;00m\u001B[38;5;21;01mlayers\u001B[39;00m \u001B[38;5;28;01mimport\u001B[39;00m Dense, Flatten\n",
      "\u001B[1;31mModuleNotFoundError\u001B[0m: No module named 'tensorflow'"
     ]
    }
   ],
   "execution_count": 2
  },
  {
   "metadata": {},
   "cell_type": "code",
   "outputs": [],
   "execution_count": null,
   "source": [
    "# Load dataset\n",
    "(x_train, y_train), (x_test, y_test) = mnist.load_data()\n",
    "\n",
    "# Normalize the images\n",
    "x_train = x_train.astype('float32') / 255.0\n",
    "x_test = x_test.astype('float32') / 255.0\n",
    "\n",
    "# Convert labels to categorical\n",
    "y_train = to_categorical(y_train, 10)\n",
    "y_test = to_categorical(y_test, 10)"
   ]
  },
  {
   "cell_type": "markdown",
   "source": [
    "Splitting the data"
   ],
   "metadata": {
    "id": "qh06A5s_HYFB"
   }
  },
  {
   "cell_type": "code",
   "source": [
    "(X_train, Y_train), (X_test, Y_test) = mnist.load_data()"
   ],
   "metadata": {
    "id": "rdoPGTfvCrDl",
    "ExecuteTime": {
     "end_time": "2024-06-05T16:53:06.572845Z",
     "start_time": "2024-06-05T16:53:06.537213Z"
    }
   },
   "outputs": [
    {
     "ename": "NameError",
     "evalue": "name 'mnist' is not defined",
     "output_type": "error",
     "traceback": [
      "\u001B[1;31m---------------------------------------------------------------------------\u001B[0m",
      "\u001B[1;31mNameError\u001B[0m                                 Traceback (most recent call last)",
      "Cell \u001B[1;32mIn[3], line 1\u001B[0m\n\u001B[1;32m----> 1\u001B[0m (X_train, Y_train), (X_test, Y_test) \u001B[38;5;241m=\u001B[39m \u001B[43mmnist\u001B[49m\u001B[38;5;241m.\u001B[39mload_data()\n",
      "\u001B[1;31mNameError\u001B[0m: name 'mnist' is not defined"
     ]
    }
   ],
   "execution_count": 3
  },
  {
   "cell_type": "code",
   "source": [
    "def plot_effect_of_layers(x_train, y_train, x_test, y_test, max_layers=5, epochs=10):\n",
    "    train_losses = []\n",
    "    val_losses = []\n",
    "    train_accuracies = []\n",
    "    val_accuracies = []\n",
    "\n",
    "    for layers in range(1, max_layers + 1):\n",
    "        model = build_model(layers)\n",
    "        history = model.fit(x_train, y_train, epochs=epochs, batch_size=32, validation_data=(x_test, y_test), verbose=0)\n",
    "\n",
    "        train_loss = history.history['loss'][-1]\n",
    "        val_loss = history.history['val_loss'][-1]\n",
    "        train_accuracy = history.history['accuracy'][-1]\n",
    "        val_accuracy = history.history['val_accuracy'][-1]\n",
    "\n",
    "        train_losses.append(train_loss)\n",
    "        val_losses.append(val_loss)\n",
    "        train_accuracies.append(train_accuracy)\n",
    "        val_accuracies.append(val_accuracy)\n",
    "\n",
    "        print(f'{layers} layers: Train Loss={train_loss}, Validation Loss={val_loss}, Train Accuracy={train_accuracy}, Validation Accuracy={val_accuracy}')\n",
    "\n",
    "    layers_range = range(1, max_layers + 1)\n",
    "\n",
    "    plt.figure(figsize=(12, 5))\n",
    "\n",
    "    # Plotting loss\n",
    "    plt.subplot(1, 2, 1)\n",
    "    plt.plot(layers_range, train_losses, marker='o', label='Train Loss')\n",
    "    plt.plot(layers_range, val_losses, marker='o', label='Validation Loss')\n",
    "    plt.title('Effect of Number of Layers on Loss')\n",
    "    plt.xlabel('Number of Layers')\n",
    "    plt.ylabel('Loss')\n",
    "    plt.legend()\n",
    "    plt.show()\n"
   ],
   "metadata": {
    "id": "mAiEi9lIC9VM"
   },
   "execution_count": null,
   "outputs": []
  },
  {
   "cell_type": "markdown",
   "source": [
    "1- Selecting number of Denses and Neurons"
   ],
   "metadata": {
    "id": "uDg_5BDdIL20"
   }
  },
  {
   "cell_type": "code",
   "source": [
    "model = models.Sequential([\n",
    "    layers.Dense(128, activation='relu', input_shape=(28 * 28,)),\n",
    "    layers.Dense(64, activation='relu'),\n",
    "    layers.Dense(10, activation='softmax')\n",
    "])"
   ],
   "metadata": {
    "id": "u9JjcPtPDsv_"
   },
   "execution_count": null,
   "outputs": []
  },
  {
   "cell_type": "code",
   "source": [
    "model.compile(optimizer='adam', loss='categorical_crossentropy', metrics=['accuracy'])"
   ],
   "metadata": {
    "id": "cZhhyGxLD0cL"
   },
   "execution_count": null,
   "outputs": []
  },
  {
   "cell_type": "code",
   "source": [
    "model.fit(X_train, Y_train, epochs=10, batch_size=64, validation_split=0.2)"
   ],
   "metadata": {
    "id": "GvzIvYjLD5j1",
    "colab": {
     "base_uri": "https://localhost:8080/"
    },
    "outputId": "d7723b37-ae90-4c00-84b5-71c3e50f6453"
   },
   "execution_count": null,
   "outputs": [
    {
     "output_type": "stream",
     "name": "stdout",
     "text": [
      "Epoch 1/10\n",
      "750/750 [==============================] - 6s 7ms/step - loss: 0.3076 - accuracy: 0.9104 - val_loss: 0.1573 - val_accuracy: 0.9529\n",
      "Epoch 2/10\n",
      "750/750 [==============================] - 4s 5ms/step - loss: 0.1270 - accuracy: 0.9617 - val_loss: 0.1168 - val_accuracy: 0.9649\n",
      "Epoch 3/10\n",
      "750/750 [==============================] - 4s 6ms/step - loss: 0.0860 - accuracy: 0.9739 - val_loss: 0.0971 - val_accuracy: 0.9712\n",
      "Epoch 4/10\n",
      "750/750 [==============================] - 5s 7ms/step - loss: 0.0654 - accuracy: 0.9802 - val_loss: 0.0878 - val_accuracy: 0.9728\n",
      "Epoch 5/10\n",
      "750/750 [==============================] - 4s 6ms/step - loss: 0.0512 - accuracy: 0.9834 - val_loss: 0.0924 - val_accuracy: 0.9739\n",
      "Epoch 6/10\n",
      "750/750 [==============================] - 5s 7ms/step - loss: 0.0403 - accuracy: 0.9870 - val_loss: 0.0851 - val_accuracy: 0.9743\n",
      "Epoch 7/10\n",
      "750/750 [==============================] - 5s 7ms/step - loss: 0.0330 - accuracy: 0.9895 - val_loss: 0.0870 - val_accuracy: 0.9749\n",
      "Epoch 8/10\n",
      "750/750 [==============================] - 4s 5ms/step - loss: 0.0259 - accuracy: 0.9919 - val_loss: 0.0934 - val_accuracy: 0.9741\n",
      "Epoch 9/10\n",
      "750/750 [==============================] - 5s 6ms/step - loss: 0.0231 - accuracy: 0.9924 - val_loss: 0.1094 - val_accuracy: 0.9720\n",
      "Epoch 10/10\n",
      "750/750 [==============================] - 5s 7ms/step - loss: 0.0204 - accuracy: 0.9932 - val_loss: 0.1071 - val_accuracy: 0.9719\n"
     ]
    },
    {
     "output_type": "execute_result",
     "data": {
      "text/plain": [
       "<keras.src.callbacks.History at 0x7f22a5b9f070>"
      ]
     },
     "metadata": {},
     "execution_count": 19
    }
   ]
  },
  {
   "cell_type": "code",
   "source": [
    "test_loss, test_acc = model.evaluate(X_test, Y_test)\n",
    "print(f\"Test accuracy: {test_acc:.4f}\")"
   ],
   "metadata": {
    "colab": {
     "base_uri": "https://localhost:8080/"
    },
    "id": "iNPq7vP0FRqV",
    "outputId": "f4531197-3c25-46d0-8c8c-0fcce5a1aac7"
   },
   "execution_count": null,
   "outputs": [
    {
     "output_type": "stream",
     "name": "stdout",
     "text": [
      "313/313 [==============================] - 1s 2ms/step - loss: 0.0950 - accuracy: 0.9750\n",
      "Test accuracy: 0.9750\n"
     ]
    }
   ]
  },
  {
   "cell_type": "code",
   "source": [
    "predictions = model.predict(X_test[:5])\n",
    "predicted_labels = [tf.argmax(pred).numpy() for pred in predictions]\n",
    "print(f\"Predicted labels: {predicted_labels}\")"
   ],
   "metadata": {
    "colab": {
     "base_uri": "https://localhost:8080/"
    },
    "id": "Rsah1QAOFi4r",
    "outputId": "4f290894-cd93-4108-af50-34e53260a715"
   },
   "execution_count": null,
   "outputs": [
    {
     "output_type": "stream",
     "name": "stdout",
     "text": [
      "1/1 [==============================] - 0s 94ms/step\n",
      "Predicted labels: [7, 2, 1, 0, 4]\n"
     ]
    }
   ]
  },
  {
   "cell_type": "code",
   "source": [],
   "metadata": {
    "id": "P6IMdqH-F1sf"
   },
   "execution_count": null,
   "outputs": []
  }
 ]
}
